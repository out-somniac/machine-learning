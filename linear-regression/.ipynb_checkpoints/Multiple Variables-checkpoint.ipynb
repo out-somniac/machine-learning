{
 "cells": [
  {
   "cell_type": "code",
   "execution_count": 59,
   "id": "beea1ea4",
   "metadata": {},
   "outputs": [],
   "source": [
    "import random\n",
    "import csv\n",
    "import matplotlib.pyplot as plt"
   ]
  },
  {
   "cell_type": "code",
   "execution_count": 53,
   "id": "616dddb5",
   "metadata": {},
   "outputs": [],
   "source": [
    "def readData(filepath):\n",
    "    xs = []\n",
    "    ys = []\n",
    "    with open(filepath) as file:\n",
    "        csv_reader = csv.reader(file, delimiter=',')\n",
    "        field_names = next(csv_reader)\n",
    "        for area, district, nr_of_beds, nr_of_bathrooms, build_year, has_parking, price in map(tuple, csv_reader):\n",
    "            # Watch out for district\n",
    "            xs.append((int(area), int(nr_of_beds), int(nr_of_bathrooms), int(build_year), int(has_parking)))\n",
    "            ys.append(int(price))\n",
    "    return xs, ys"
   ]
  },
  {
   "cell_type": "code",
   "execution_count": 54,
   "id": "36d85faf",
   "metadata": {},
   "outputs": [],
   "source": [
    "xs, ys = readData(\"data/mieszkania.csv\");"
   ]
  },
  {
   "cell_type": "code",
   "execution_count": 55,
   "id": "4aa66887",
   "metadata": {},
   "outputs": [],
   "source": [
    "def hypothesis(weights, constant, x):\n",
    "    return constant + sum([weights[i] * x[i] for i in range(len(weights))])"
   ]
  },
  {
   "cell_type": "code",
   "execution_count": 56,
   "id": "d9e94860",
   "metadata": {},
   "outputs": [],
   "source": [
    "def square_error(weights, constant, xs, ys):\n",
    "    result = 0\n",
    "    for x, y in zip(xs, ys):\n",
    "        result += (y - hypothesis(weights, constant, x))**2\n",
    "    return result / len(xs)"
   ]
  },
  {
   "cell_type": "code",
   "execution_count": 62,
   "id": "c59da38e",
   "metadata": {},
   "outputs": [],
   "source": [
    "def partial(k, weights, constant, xs, ys):\n",
    "    result = 0\n",
    "    for x, y in zip(xs, ys):\n",
    "        "
   ]
  },
  {
   "cell_type": "code",
   "execution_count": 58,
   "id": "21629598",
   "metadata": {},
   "outputs": [],
   "source": [
    "dimension = len(xs[0])\n",
    "weights = [random.uniform(0, 1) for i in range(dimension)]\n",
    "constant = 0\n",
    "epochs = 40\n",
    "error_log = [square_error(weights, constant, xs, ys)]\n",
    "\n",
    "for i in range(epochs):\n",
    "    "
   ]
  },
  {
   "cell_type": "code",
   "execution_count": 60,
   "id": "bd8bd0f3",
   "metadata": {},
   "outputs": [
    {
     "data": {
      "text/plain": [
       "[<matplotlib.lines.Line2D at 0x7f6707094310>]"
      ]
     },
     "execution_count": 60,
     "metadata": {},
     "output_type": "execute_result"
    },
    {
     "data": {
      "image/png": "[encoded data removed]",
      "text/plain": [
       "<Figure size 640x480 with 1 Axes>"
      ]
     },
     "metadata": {},
     "output_type": "display_data"
    }
   ],
   "source": [
    "plt.plot(error_log)"
   ]
  }
 ],
 "metadata": {
  "kernelspec": {
   "display_name": "Python 3 (ipykernel)",
   "language": "python",
   "name": "python3"
  },
  "language_info": {
   "codemirror_mode": {
    "name": "ipython",
    "version": 3
   },
   "file_extension": ".py",
   "mimetype": "text/x-python",
   "name": "python",
   "nbconvert_exporter": "python",
   "pygments_lexer": "ipython3",
   "version": "3.10.8"
  }
 },
 "nbformat": 4,
 "nbformat_minor": 5
}
