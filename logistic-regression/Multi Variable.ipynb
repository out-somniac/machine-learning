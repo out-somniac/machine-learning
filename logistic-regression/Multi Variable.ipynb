{
 "cells": [
  {
   "cell_type": "code",
   "execution_count": 19,
   "id": "46ac3667",
   "metadata": {},
   "outputs": [],
   "source": [
    "import csv\n",
    "from enum import Enum"
   ]
  },
  {
   "cell_type": "code",
   "execution_count": 20,
   "id": "4ddfb92c",
   "metadata": {},
   "outputs": [],
   "source": [
    "class FeatureType(Enum):\n",
    "    Numerical = 1\n",
    "    Category = 2"
   ]
  },
  {
   "cell_type": "code",
   "execution_count": 21,
   "id": "c1c75bca",
   "metadata": {},
   "outputs": [],
   "source": [
    "file_path = \"data/heart.csv\""
   ]
  },
  {
   "cell_type": "markdown",
   "id": "d85dc37f",
   "metadata": {},
   "source": [
    "## Basic data ma"
   ]
  },
  {
   "cell_type": "code",
   "execution_count": 34,
   "id": "682a5a68",
   "metadata": {},
   "outputs": [],
   "source": [
    "def get_default_descriptor():\n",
    "    default_descriptor = [FeatureType.Numerical for _ in range(14)]\n",
    "    default_descriptor[1] = FeatureType.Category\n",
    "    return default_descriptor\n",
    "\n",
    "def read_raw_data(file_path):\n",
    "    with open(file_path, newline='' ) as file:\n",
    "        reader = csv.reader(file, delimiter=',')\n",
    "        names = next(reader)\n",
    "        raw_data = list(reader)\n",
    "    return raw_data, names\n",
    "\n",
    "def get_possible_feature_values(data, index):\n",
    "    possible_values = []\n",
    "    for row in data:\n",
    "        for i, feature in enumerate(row):\n",
    "            if i == index:\n",
    "                possible_values.append(feature)\n",
    "    return list(set(possible_values))\n",
    "\n",
    "def find_among_possible(possible_values, value):\n",
    "    return possible_values.index(value)\n",
    "\n",
    "def find_possible_values_for_all(data, descriptor):\n",
    "    possible_values = []\n",
    "    for i, feature_type in enumerate(descriptor):\n",
    "        if feature_type == FeatureType.Category:\n",
    "            possible_values.append(get_possible_feature_values(data, i))\n",
    "        else:\n",
    "            possible_values.append(None)\n",
    "    return possible_values\n",
    "\n",
    "def add_category_to_data_point(data_point, feature, possible_values):\n",
    "    index = find_among_possible(possible_values, feature)\n",
    "    result = [0 for _ in possible_values]\n",
    "    result[index] = 1\n",
    "    return data_point + result\n",
    "\n",
    "def get_data(file_path, descriptor):\n",
    "    raw_data, _ = read_raw_data(file_path)\n",
    "    possible_values = find_possible_values_for_all(raw_data, descriptor)\n",
    "    result = []\n",
    "    for row in raw_data:\n",
    "        data_point = []\n",
    "        for i, (feature, feature_type) in enumerate(zip(row, descriptor)):\n",
    "            if feature_type == FeatureType.Numerical:\n",
    "                data_point.append(float(feature))\n",
    "            elif feature_type == FeatureType.Category:\n",
    "                data_point = add_category_to_data_point(data_point, feature, possible_values[i])\n",
    "        result.append(tuple(data_point))\n",
    "    return result"
   ]
  },
  {
   "cell_type": "code",
   "execution_count": null,
   "id": "d236934a",
   "metadata": {},
   "outputs": [],
   "source": []
  }
 ],
 "metadata": {
  "kernelspec": {
   "display_name": "Python 3 (ipykernel)",
   "language": "python",
   "name": "python3"
  },
  "language_info": {
   "codemirror_mode": {
    "name": "ipython",
    "version": 3
   },
   "file_extension": ".py",
   "mimetype": "text/x-python",
   "name": "python",
   "nbconvert_exporter": "python",
   "pygments_lexer": "ipython3",
   "version": "3.10.8"
  }
 },
 "nbformat": 4,
 "nbformat_minor": 5
}
